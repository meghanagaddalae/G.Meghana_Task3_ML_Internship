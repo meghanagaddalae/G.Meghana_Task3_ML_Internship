{
  "nbformat": 4,
  "nbformat_minor": 0,
  "metadata": {
    "colab": {
      "provenance": [],
      "authorship_tag": "ABX9TyM9hHoPeEE3F6+DRtvFb2lm",
      "include_colab_link": true
    },
    "kernelspec": {
      "name": "python3",
      "display_name": "Python 3"
    },
    "language_info": {
      "name": "python"
    }
  },
  "cells": [
    {
      "cell_type": "markdown",
      "metadata": {
        "id": "view-in-github",
        "colab_type": "text"
      },
      "source": [
        "<a href=\"https://colab.research.google.com/github/meghanagaddalae/G.Meghana_Task3_ML_Internship/blob/main/packaging.ipynb\" target=\"_parent\"><img src=\"https://colab.research.google.com/assets/colab-badge.svg\" alt=\"Open In Colab\"/></a>"
      ]
    },
    {
      "cell_type": "code",
      "execution_count": 7,
      "metadata": {
        "colab": {
          "base_uri": "https://localhost:8080/"
        },
        "id": "75eK4E-zDlUp",
        "outputId": "88ff90c6-8d6b-429a-8ece-9614e0d98e06"
      },
      "outputs": [
        {
          "output_type": "stream",
          "name": "stderr",
          "text": [
            "/tmp/ipython-input-3904960273.py:11: FutureWarning: A value is trying to be set on a copy of a DataFrame or Series through chained assignment using an inplace method.\n",
            "The behavior will change in pandas 3.0. This inplace method will never work because the intermediate object on which we are setting values always behaves as a copy.\n",
            "\n",
            "For example, when doing 'df[col].method(value, inplace=True)', try using 'df.method({col: value}, inplace=True)' or df[col] = df[col].method(value) instead, to perform the operation inplace on the original object.\n",
            "\n",
            "\n",
            "  df['TotalCharges'].fillna(df['TotalCharges'].median(), inplace=True)\n"
          ]
        },
        {
          "output_type": "stream",
          "name": "stdout",
          "text": [
            "✅ Model and preprocessor saved!\n",
            "Sample Prediction (Churn=1 means Yes): [0]\n"
          ]
        }
      ],
      "source": [
        "import pandas as pd\n",
        "import joblib\n",
        "from sklearn.preprocessing import StandardScaler\n",
        "from sklearn.model_selection import train_test_split\n",
        "from sklearn.ensemble import RandomForestClassifier\n",
        "\n",
        "DATA_PATH = \"/content/archive (1).zip\"\n",
        "df = pd.read_csv(DATA_PATH)\n",
        "df = df.drop(['customerID'], axis=1)\n",
        "df['TotalCharges'] = pd.to_numeric(df['TotalCharges'], errors='coerce')\n",
        "df['TotalCharges'].fillna(df['TotalCharges'].median(), inplace=True)\n",
        "df['Churn'] = df['Churn'].map({'Yes': 1, 'No': 0})\n",
        "df = pd.get_dummies(df, drop_first=True)\n",
        "\n",
        "X = df.drop('Churn', axis=1)\n",
        "y = df['Churn']\n",
        "\n",
        "X_train, X_test, y_train, y_test = train_test_split(X, y, test_size=0.2, stratify=y, random_state=42)\n",
        "\n",
        "scaler = StandardScaler()\n",
        "X_train_scaled = scaler.fit_transform(X_train)\n",
        "X_test_scaled = scaler.transform(X_test)\n",
        "\n",
        "model = RandomForestClassifier(n_estimators=200, random_state=42)\n",
        "model.fit(X_train_scaled, y_train)\n",
        "\n",
        "import os\n",
        "os.makedirs(\"artifacts\", exist_ok=True)\n",
        "joblib.dump(model, \"artifacts/best_model.joblib\")\n",
        "joblib.dump(scaler, \"artifacts/preprocessor.joblib\")\n",
        "\n",
        "print(\"✅ Model and preprocessor saved!\")\n",
        "\n",
        "loaded_model = joblib.load(\"artifacts/best_model.joblib\")\n",
        "loaded_scaler = joblib.load(\"artifacts/preprocessor.joblib\")\n",
        "\n",
        "sample = X_test.iloc[0:1]\n",
        "scaled_sample = loaded_scaler.transform(sample)\n",
        "prediction = loaded_model.predict(scaled_sample)\n",
        "print(\"Sample Prediction (Churn=1 means Yes):\", prediction)"
      ]
    }
  ]
}